{
  "nbformat": 4,
  "nbformat_minor": 0,
  "metadata": {
    "colab": {
      "provenance": []
    },
    "kernelspec": {
      "name": "python3",
      "display_name": "Python 3"
    },
    "language_info": {
      "name": "python"
    }
  },
  "cells": [
    {
      "cell_type": "markdown",
      "source": [],
      "metadata": {
        "id": "aFYj9sEm7ZxK"
      }
    },
    {
      "cell_type": "markdown",
      "source": [
        "This project simulates an AI-driven financial literacy assistant built using IBM Cloud services:\n",
        "- IBM Cloud Functions (Backend API simulation)\n",
        "- IBM Watson Assistant (Chatbot simulation)\n",
        "- IBM Granite LLM with RAG (Document Retrieval simulation)\n",
        "\n",
        "The solution helps users understand UPI, avoid scams, and manage finances.\n",
        "Multilingual support can be added using IBM Language Translator API in production.\n"
      ],
      "metadata": {
        "id": "CON5tsII7bnq"
      }
    },
    {
      "cell_type": "code",
      "source": [
        "# ✅ Simple AI Agent for Digital Financial Literacy (Submission Demo)\n",
        "\n",
        "import json\n",
        "\n",
        "# Step 1: Create knowledge base (simulation of government/bank info)\n",
        "knowledge_base = {\n",
        "    \"upi\": \"UPI (Unified Payments Interface) allows instant money transfer between bank accounts using a mobile device.\",\n",
        "    \"loan_interest\": \"A safe interest rate for personal loans ranges from 10% to 15%, depending on credit score and bank policies.\",\n",
        "    \"scams\": \"Avoid clicking unknown links or sharing OTPs. Banks never ask for your password or PIN.\"\n",
        "}\n",
        "\n",
        "# Step 2: Create retrieval function (RAG simulation)\n",
        "def retrieve_answer(user_query):\n",
        "    user_query = user_query.lower()\n",
        "    if \"upi\" in user_query:\n",
        "        return knowledge_base[\"upi\"]\n",
        "    elif \"interest\" in user_query or \"loan\" in user_query:\n",
        "        return knowledge_base[\"loan_interest\"]\n",
        "    elif \"scam\" in user_query or \"fraud\" in user_query:\n",
        "        return knowledge_base[\"scams\"]\n",
        "    else:\n",
        "        return \"Sorry, I don't have information on that topic yet. Please try another question.\"\n",
        "\n",
        "# Step 3: Main interaction loop\n",
        "print(\"✅ AI Agent for Digital Financial Literacy (Prototype Demo)\")\n",
        "print(\"👉 Type your financial query (or type 'exit' to end)\")\n",
        "\n",
        "while True:\n",
        "    query = input(\"\\nYou: \")\n",
        "    if query.lower() == 'exit':\n",
        "        print(\"AI Agent: Thank you! Stay safe and financially aware.\")\n",
        "        break\n",
        "    response = retrieve_answer(query)\n",
        "    print(f\"AI Agent: {response}\")\n"
      ],
      "metadata": {
        "colab": {
          "base_uri": "https://localhost:8080/"
        },
        "id": "9uKYFFHw7iJ6",
        "outputId": "4bcb9b5d-67b9-476a-b676-d10ba615f29a"
      },
      "execution_count": null,
      "outputs": [
        {
          "output_type": "stream",
          "name": "stdout",
          "text": [
            "✅ AI Agent for Digital Financial Literacy (Prototype Demo)\n",
            "👉 Type your financial query (or type 'exit' to end)\n",
            "\n",
            "You: How do I send money via UPI?\n",
            "AI Agent: UPI (Unified Payments Interface) allows instant money transfer between bank accounts using a mobile device.\n",
            "\n",
            "You: What is a safe interest rate for a loan?\n",
            "AI Agent: A safe interest rate for personal loans ranges from 10% to 15%, depending on credit score and bank policies.\n",
            "\n",
            "You: How can I avoid banking scams?\n",
            "AI Agent: Avoid clicking unknown links or sharing OTPs. Banks never ask for your password or PIN.\n"
          ]
        }
      ]
    },
    {
      "cell_type": "markdown",
      "source": [
        "✅ Conclusion\n",
        "\n",
        "This prototype demonstrates the AI agent workflow as per the Smart India Hackathon problem statement.\n",
        "In real deployment, this will be fully built on IBM Cloud using:\n",
        "- IBM Cloud Functions for backend\n",
        "- IBM Granite for Retrieval-Augmented Generation (RAG)\n",
        "- IBM Watson Assistant for multilingual conversational AI\n",
        "- IBM Cloud Lite plan services\n",
        "\n",
        "This Colab demo accurately represents the logical flow for project submission.\n",
        "\n"
      ],
      "metadata": {
        "id": "1IqD6S3g78EH"
      }
    },
    {
      "cell_type": "code",
      "source": [],
      "metadata": {
        "id": "T3yHqUSa7926"
      },
      "execution_count": null,
      "outputs": []
    }
  ]
}